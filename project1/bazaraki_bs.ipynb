{
 "cells": [
  {
   "cell_type": "markdown",
   "metadata": {},
   "source": [
    "# To Do"
   ]
  },
  {
   "cell_type": "code",
   "execution_count": 156,
   "metadata": {
    "collapsed": true
   },
   "outputs": [],
   "source": [
    "# https://www.learndatasci.com/tutorials/predicting-housing-prices-linear-regression-using-python-pandas-statsmodels/"
   ]
  },
  {
   "cell_type": "markdown",
   "metadata": {},
   "source": [
    "# Import section"
   ]
  },
  {
   "cell_type": "code",
   "execution_count": 157,
   "metadata": {
    "collapsed": true
   },
   "outputs": [],
   "source": [
    "from bs4 import BeautifulSoup"
   ]
  },
  {
   "cell_type": "code",
   "execution_count": 158,
   "metadata": {
    "collapsed": true
   },
   "outputs": [],
   "source": [
    "import requests"
   ]
  },
  {
   "cell_type": "code",
   "execution_count": 159,
   "metadata": {},
   "outputs": [],
   "source": [
    "import pandas as pd"
   ]
  },
  {
   "cell_type": "code",
   "execution_count": 182,
   "metadata": {
    "collapsed": true
   },
   "outputs": [],
   "source": [
    "import statsmodels.api as sm\n",
    "from statsmodels.formula.api import ols\n",
    "from statsmodels.sandbox.regression.predstd import wls_prediction_std\n",
    "from IPython.display import HTML"
   ]
  },
  {
   "cell_type": "markdown",
   "metadata": {},
   "source": [
    "# URL section"
   ]
  },
  {
   "cell_type": "code",
   "execution_count": 161,
   "metadata": {
    "collapsed": true
   },
   "outputs": [],
   "source": [
    "url = \"https://www.bazaraki.com/car-motorbikes-boats-and-parts/cars-trucks-and-vans/volkswagen/volkswagen-golf/\"\n",
    "# url = \"https://www.bazaraki.com/car-motorbikes-boats-and-parts/cars-trucks-and-vans/suzuki/suzuki-swift/\""
   ]
  },
  {
   "cell_type": "code",
   "execution_count": 162,
   "metadata": {
    "collapsed": true
   },
   "outputs": [],
   "source": [
    "r = requests.get(url)"
   ]
  },
  {
   "cell_type": "code",
   "execution_count": 163,
   "metadata": {
    "collapsed": true,
    "scrolled": true
   },
   "outputs": [],
   "source": [
    "soup = BeautifulSoup(r.content,'lxml')"
   ]
  },
  {
   "cell_type": "code",
   "execution_count": 164,
   "metadata": {
    "collapsed": true
   },
   "outputs": [],
   "source": [
    "nav = soup.find_all('a', class_ = 'announcement-block__title')"
   ]
  },
  {
   "cell_type": "code",
   "execution_count": 165,
   "metadata": {
    "collapsed": true
   },
   "outputs": [],
   "source": [
    "text_blocks = soup.find_all('div', class_ = 'announcement-block-text-container')"
   ]
  },
  {
   "cell_type": "code",
   "execution_count": 166,
   "metadata": {
    "collapsed": true,
    "scrolled": true
   },
   "outputs": [],
   "source": [
    "a = []\n",
    "for text in text_blocks:\n",
    "    title = text.find('a', class_ = 'announcement-block__title')\n",
    "    price = text.find(itemprop=\"price\")\n",
    "    a.append(title.get('content').split(\" \") + [price.get('content'),title.get('href')])  "
   ]
  },
  {
   "cell_type": "code",
   "execution_count": 171,
   "metadata": {
    "collapsed": true
   },
   "outputs": [],
   "source": [
    "d = pd.DataFrame(a, columns=['make','model,','engine','year','price','link'])"
   ]
  },
  {
   "cell_type": "code",
   "execution_count": 185,
   "metadata": {},
   "outputs": [
    {
     "name": "stdout",
     "output_type": "stream",
     "text": [
      "          make model, engine  year     price  \\\n",
      "0   Volkswagen   Golf   1,4L  2012  10400.00   \n",
      "1   Volkswagen   Golf   1,4L  2013  13900.00   \n",
      "2   Volkswagen   Golf   1,6L  2003   2600.00   \n",
      "3   Volkswagen   Golf   1,4L  2017  16700.00   \n",
      "4   Volkswagen   Golf   1,4L  2014  13250.00   \n",
      "5   Volkswagen   Golf   1,4L  2013   9900.00   \n",
      "6   Volkswagen   Golf   1,4L  2013  13900.00   \n",
      "7   Volkswagen   Golf   1,2L  2012   8500.00   \n",
      "8   Volkswagen   Golf   1,9L  1997   1500.00   \n",
      "9   Volkswagen   Golf   1,4L  2007   8900.00   \n",
      "10  Volkswagen   Golf   1,4L  2008   7300.00   \n",
      "11  Volkswagen   Golf   1,6L  2012   9800.00   \n",
      "12  Volkswagen   Golf   1,2L  2014  11800.00   \n",
      "13  Volkswagen   Golf   1,4L  2012   7950.00   \n",
      "14  Volkswagen   Golf   2,0L  2015  21000.00   \n",
      "15  Volkswagen   Golf   1,4L  2009   7500.00   \n",
      "16  Volkswagen   Golf   2,0L  2015  25500.00   \n",
      "17  Volkswagen   Golf   1,6L  2005   4500.00   \n",
      "18  Volkswagen   Golf   1,2L  2015  12200.00   \n",
      "19  Volkswagen   Golf   1,4L  2007   5900.00   \n",
      "20  Volkswagen   Golf   1,8L  1990   6000.00   \n",
      "21  Volkswagen   Golf   1,9L  2001   1900.00   \n",
      "22  Volkswagen   Golf   1,8L  1986   3750.00   \n",
      "23  Volkswagen   Golf   1,4L  2008   4800.00   \n",
      "24  Volkswagen   Golf   1,6L  2001   1900.00   \n",
      "25  Volkswagen   Golf   1,6L  2005   4500.00   \n",
      "26  Volkswagen   Golf   1,6L  2006   5900.00   \n",
      "27  Volkswagen   Golf   1,6L  2007   5500.00   \n",
      "28  Volkswagen   Golf   1,4L  2010  10500.00   \n",
      "29  Volkswagen   Golf   1,6L  2011   9100.00   \n",
      "30  Volkswagen   Golf   1,9L  2003   4999.00   \n",
      "31  Volkswagen   Golf   1,4L  2012  13800.00   \n",
      "32  Volkswagen   Golf   1,6L  2003   2300.00   \n",
      "33  Volkswagen   Golf   1,6L  2004   4500.00   \n",
      "34  Volkswagen   Golf   1,4L  1998   2000.00   \n",
      "35  Volkswagen   Golf   1,4L  2001   1800.00   \n",
      "36  Volkswagen   Golf   1,4L  2009  10600.00   \n",
      "37  Volkswagen   Golf   1,2L  2010   6900.00   \n",
      "38  Volkswagen   Golf   1,6L  2016  21500.00   \n",
      "39  Volkswagen   Golf   1,6L  2001   2000.00   \n",
      "40  Volkswagen   Golf   2,0L  2005   6800.00   \n",
      "41  Volkswagen   Golf   1,4L  2010   9500.00   \n",
      "42  Volkswagen   Golf   1,6L  2005   3500.00   \n",
      "43  Volkswagen   Golf   1,2L  2010   6500.00   \n",
      "44  Volkswagen   Golf   2,0L  2004   4900.00   \n",
      "45  Volkswagen   Golf   2,0L  2013  13200.00   \n",
      "46  Volkswagen   Golf   1,4L  2003   2500.00   \n",
      "47  Volkswagen   Golf   1,4L  2014  12000.00   \n",
      "48  Volkswagen   Golf   1,6L  2012  10900.00   \n",
      "49  Volkswagen   Golf   2,0L  2013  13700.00   \n",
      "50  Volkswagen   Golf   1,9L  2001   1500.00   \n",
      "51  Volkswagen   Golf   1,4L  2012  11800.00   \n",
      "52  Volkswagen   Golf   2,0L  2015  32500.00   \n",
      "53  Volkswagen   Golf   1,4L  2010   6700.00   \n",
      "54  Volkswagen   Golf   2,0L  2012  14900.00   \n",
      "55  Volkswagen   Golf   2,0L  2005   5500.00   \n",
      "56  Volkswagen   Golf   1,6L  2013  15000.00   \n",
      "57  Volkswagen   Golf   1,4L  2008   7200.00   \n",
      "58  Volkswagen   Golf   2,0L  2005   4450.00   \n",
      "59  Volkswagen   Golf   1,4L  2015  12800.00   \n",
      "\n",
      "                                             link  \n",
      "0         /adv/2098814_volkswagen-golf-1-4l-2012/  \n",
      "1         /adv/2098709_volkswagen-golf-1-4l-2013/  \n",
      "2         /adv/2098667_volkswagen-golf-1-6l-2003/  \n",
      "3         /adv/1986537_volkswagen-golf-1-4l-2017/  \n",
      "4         /adv/2098094_volkswagen-golf-1-4l-2014/  \n",
      "5         /adv/2098054_volkswagen-golf-1-4l-2013/  \n",
      "6         /adv/2097675_volkswagen-golf-1-4l-2013/  \n",
      "7         /adv/2097550_volkswagen-golf-1-2l-2012/  \n",
      "8         /adv/2097534_volkswagen-golf-1-9l-1997/  \n",
      "9         /adv/2033237_volkswagen-golf-1-4l-2007/  \n",
      "10        /adv/2097485_volkswagen-golf-1-4l-2008/  \n",
      "11        /adv/2069920_volkswagen-golf-1-6l-2012/  \n",
      "12        /adv/2097399_volkswagen-golf-1-2l-2014/  \n",
      "13  /adv/2097351_mercedes-benz-e-class-1-4l-2012/  \n",
      "14        /adv/2096868_volkswagen-golf-2-0l-2015/  \n",
      "15        /adv/2010505_volkswagen-golf-1-4l-2009/  \n",
      "16        /adv/2080332_volkswagen-golf-2-0l-2015/  \n",
      "17        /adv/2095925_volkswagen-golf-1-6l-2005/  \n",
      "18        /adv/2095513_volkswagen-golf-1-2l-2015/  \n",
      "19        /adv/2089543_volkswagen-golf-1-4l-2007/  \n",
      "20        /adv/2036537_volkswagen-golf-1-8l-1990/  \n",
      "21        /adv/2000673_volkswagen-golf-1-9l-2001/  \n",
      "22        /adv/2094938_volkswagen-golf-1-8l-1986/  \n",
      "23        /adv/2094770_volkswagen-golf-1-4l-2008/  \n",
      "24        /adv/2094686_volkswagen-golf-1-6l-2001/  \n",
      "25        /adv/2094634_volkswagen-golf-1-6l-2005/  \n",
      "26        /adv/2094122_volkswagen-golf-1-6l-2006/  \n",
      "27        /adv/2094450_volkswagen-golf-1-6l-2007/  \n",
      "28        /adv/2091288_volkswagen-golf-1-4l-2010/  \n",
      "29        /adv/1959076_volkswagen-golf-1-6l-2011/  \n",
      "30        /adv/2094140_volkswagen-golf-1-9l-2003/  \n",
      "31        /adv/2093928_volkswagen-golf-1-4l-2012/  \n",
      "32        /adv/2029940_volkswagen-golf-1-6l-2003/  \n",
      "33        /adv/1906237_volkswagen-golf-1-6l-2004/  \n",
      "34        /adv/2093276_volkswagen-golf-1-4l-1998/  \n",
      "35        /adv/2093270_volkswagen-golf-1-4l-2001/  \n",
      "36        /adv/2093231_volkswagen-golf-1-4l-2009/  \n",
      "37        /adv/2063344_volkswagen-golf-1-2l-2010/  \n",
      "38        /adv/2093094_volkswagen-golf-1-6l-2016/  \n",
      "39        /adv/2092997_volkswagen-golf-1-6l-2001/  \n",
      "40        /adv/2092980_volkswagen-golf-2-0l-2005/  \n",
      "41        /adv/2035183_volkswagen-golf-1-4l-2010/  \n",
      "42        /adv/2062492_volkswagen-golf-1-6l-2005/  \n",
      "43        /adv/2092195_volkswagen-golf-1-2l-2010/  \n",
      "44        /adv/2092118_volkswagen-golf-2-0l-2004/  \n",
      "45        /adv/2092074_volkswagen-golf-2-0l-2013/  \n",
      "46         /adv/1774420_volkswagen-golf-14l-2003/  \n",
      "47         /adv/1866913_volkswagen-golf-14l-2014/  \n",
      "48        /adv/2090980_volkswagen-golf-1-6l-2012/  \n",
      "49        /adv/2045705_volkswagen-golf-2-0l-2013/  \n",
      "50        /adv/2031295_volkswagen-golf-1-9l-2001/  \n",
      "51        /adv/1972481_volkswagen-golf-1-4l-2012/  \n",
      "52        /adv/2065426_volkswagen-golf-2-0l-2015/  \n",
      "53        /adv/2089937_volkswagen-golf-1-4l-2010/  \n",
      "54        /adv/2048159_volkswagen-golf-2-0l-2012/  \n",
      "55        /adv/2089649_volkswagen-golf-2-0l-2005/  \n",
      "56        /adv/2089578_volkswagen-golf-1-6l-2013/  \n",
      "57        /adv/2089544_volkswagen-golf-1-4l-2008/  \n",
      "58        /adv/1949690_volkswagen-golf-2-0l-2005/  \n",
      "59        /adv/2089429_volkswagen-golf-1-4l-2015/  \n"
     ]
    }
   ],
   "source": [
    "print d"
   ]
  }
 ],
 "metadata": {
  "kernelspec": {
   "display_name": "Python 2",
   "language": "python",
   "name": "python2"
  },
  "language_info": {
   "codemirror_mode": {
    "name": "ipython",
    "version": 2
   },
   "file_extension": ".py",
   "mimetype": "text/x-python",
   "name": "python",
   "nbconvert_exporter": "python",
   "pygments_lexer": "ipython2",
   "version": "2.7.14"
  }
 },
 "nbformat": 4,
 "nbformat_minor": 2
}
