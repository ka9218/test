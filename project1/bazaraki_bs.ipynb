{
 "cells": [
  {
   "cell_type": "markdown",
   "metadata": {},
   "source": [
    "# Import section"
   ]
  },
  {
   "cell_type": "code",
   "execution_count": 30,
   "metadata": {},
   "outputs": [],
   "source": [
    "from bs4 import BeautifulSoup"
   ]
  },
  {
   "cell_type": "code",
   "execution_count": 31,
   "metadata": {
    "collapsed": true
   },
   "outputs": [],
   "source": [
    "import requests"
   ]
  },
  {
   "cell_type": "code",
   "execution_count": 87,
   "metadata": {
    "collapsed": true
   },
   "outputs": [],
   "source": [
    "import pandas as pd"
   ]
  },
  {
   "cell_type": "markdown",
   "metadata": {},
   "source": [
    "# URL section"
   ]
  },
  {
   "cell_type": "code",
   "execution_count": 32,
   "metadata": {
    "collapsed": true
   },
   "outputs": [],
   "source": [
    "url = \"https://www.bazaraki.com/car-motorbikes-boats-and-parts/cars-trucks-and-vans/suzuki/suzuki-swift/\""
   ]
  },
  {
   "cell_type": "code",
   "execution_count": 33,
   "metadata": {
    "collapsed": true
   },
   "outputs": [],
   "source": [
    "r = requests.get(url)"
   ]
  },
  {
   "cell_type": "code",
   "execution_count": 57,
   "metadata": {
    "scrolled": true
   },
   "outputs": [],
   "source": [
    "soup = BeautifulSoup(r.content,'lxml')"
   ]
  },
  {
   "cell_type": "code",
   "execution_count": 61,
   "metadata": {},
   "outputs": [],
   "source": [
    "nav = soup.find_all('a', class_ = 'announcement-block__title')"
   ]
  },
  {
   "cell_type": "code",
   "execution_count": 72,
   "metadata": {
    "collapsed": true
   },
   "outputs": [],
   "source": [
    "text_blocks = soup.find_all('div', class_ = 'announcement-block-text-container')"
   ]
  },
  {
   "cell_type": "code",
   "execution_count": null,
   "metadata": {
    "scrolled": true
   },
   "outputs": [],
   "source": [
    "a = []\n",
    "for text in text_blocks:\n",
    "    title = text.find('a', class_ = 'announcement-block__title')\n",
    "    price = text.find(itemprop=\"price\")\n",
    "    a.append([title.get('content'),price.get('content'),title.get('href')])\n",
    "\n",
    "\n",
    "    "
   ]
  },
  {
   "cell_type": "code",
   "execution_count": 117,
   "metadata": {},
   "outputs": [
    {
     "name": "stdout",
     "output_type": "stream",
     "text": [
      "                      name     price\n",
      "0   Suzuki Swift 1,3L 2015   7500.00\n",
      "1   Suzuki Swift 1,2L 2008   4900.00\n",
      "2   Suzuki Swift 1,2L 2015   8500.00\n",
      "3   Suzuki Swift 1,2L 2015   8500.00\n",
      "4   Suzuki Swift 1,5L 2005   4000.00\n",
      "5   Suzuki Swift 1,4L 2006   3500.00\n",
      "6   Suzuki Swift 1,3L 2012   5750.00\n",
      "7   Suzuki Swift 1,6L 2005   5500.00\n",
      "8   Suzuki Swift 1,2L 2011   6000.00\n",
      "9   Suzuki Swift 1,3L 2007   5000.00\n",
      "10  Suzuki Swift 1,3L 2008   4300.00\n",
      "11  Suzuki Swift 1,5L 2005   4000.00\n",
      "12  Suzuki Swift 1,3L 2007   5000.00\n",
      "13  Suzuki Swift 1,3L 2006   4250.00\n",
      "14  Suzuki Swift 1,2L 2013   8800.00\n",
      "15  Suzuki Swift 1,3L 2006   4300.00\n",
      "16  Suzuki Swift 1,2L 2013   7500.00\n",
      "17  Suzuki Swift 1,6L 2015   9300.00\n",
      "18  Suzuki Swift 1,3L 2014   7500.00\n",
      "19  Suzuki Swift 1,4L 2015   8300.00\n",
      "20  Suzuki Swift 1,6L 2006   5100.00\n",
      "21  Suzuki Swift 1,3L 2014   7000.00\n",
      "22  Suzuki Swift 1,2L 2008   4850.00\n",
      "23  Suzuki Swift 1,3L 2005   4200.00\n",
      "24  Suzuki Swift 1,3L 2011   7500.00\n",
      "25  Suzuki Swift 1,6L 2008   5500.00\n",
      "26  Suzuki Swift 1,0L 1992    700.00\n",
      "27  Suzuki Swift 1,5L 2005   3800.00\n",
      "28  Suzuki Swift 1,3L 2007   5000.00\n",
      "29  Suzuki Swift 1,6L 2009   7000.00\n",
      "30  Suzuki Swift 1,2L 2015   8000.00\n",
      "31  Suzuki Swift 1,2L 2014   7500.00\n",
      "32  Suzuki Swift 1,3L 2016   8500.00\n",
      "33  Suzuki Swift 1,3L 2014   7300.00\n",
      "34  Suzuki Swift 1,3L 2005   5000.00\n",
      "35  Suzuki Swift 1,3L 2009   5000.00\n",
      "36  Suzuki Swift 1,3L 2010   5800.00\n",
      "37  Suzuki Swift 1,2L 2015   7900.00\n",
      "38  Suzuki Swift 1,2L 2015   8200.00\n",
      "39  Suzuki Swift 1,3L 2013   7300.00\n",
      "40  Suzuki Swift 1,6L 2013  10400.00\n",
      "41  Suzuki Swift 1,3L 2006   4500.00\n",
      "42  Suzuki Swift 1,3L 2007   4600.00\n",
      "43  Suzuki Swift 1,6L 2005   6000.00\n",
      "44  Suzuki Swift 1,3L 2010   5600.00\n",
      "45  Suzuki Swift 1,3L 2007   6200.00\n",
      "46  Suzuki Swift 1,3L 2006   5000.00\n",
      "47  Suzuki Swift 1,2L 2016  10800.00\n",
      "48  Suzuki Swift 1,3L 2008   4500.00\n",
      "49  Suzuki Swift 1,5L 2005   3900.00\n",
      "50  Suzuki Swift 0,4L 2011   8500.00\n",
      "51  Suzuki Swift 1,3L 2017  13900.00\n",
      "52  Suzuki Swift 1,5L 2009   4500.00\n",
      "53  Suzuki Swift 1,2L 2008   5000.00\n",
      "54  Suzuki Swift 1,3L 2017  13500.00\n",
      "55  Suzuki Swift 1,3L 2005   4300.00\n",
      "56  Suzuki Swift 1,6L 2007   6000.00\n",
      "57  Suzuki Swift 1,3L 2008   4500.00\n",
      "58  Suzuki Swift 1,3L 2013   7700.00\n",
      "59  Suzuki Swift 1,6L 2007   5500.00\n"
     ]
    }
   ],
   "source": [
    "d = pd.DataFrame(a, columns=['name','price','link'])\n",
    "print d[['name','price']]"
   ]
  }
 ],
 "metadata": {
  "kernelspec": {
   "display_name": "Python 2",
   "language": "python",
   "name": "python2"
  },
  "language_info": {
   "codemirror_mode": {
    "name": "ipython",
    "version": 2
   },
   "file_extension": ".py",
   "mimetype": "text/x-python",
   "name": "python",
   "nbconvert_exporter": "python",
   "pygments_lexer": "ipython2",
   "version": "2.7.14"
  }
 },
 "nbformat": 4,
 "nbformat_minor": 2
}
